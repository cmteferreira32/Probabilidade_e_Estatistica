{
  "nbformat": 4,
  "nbformat_minor": 0,
  "metadata": {
    "colab": {
      "name": "Probabilidade_e_Estatistica.ipynb",
      "provenance": [],
      "authorship_tag": "ABX9TyOaZG7PFQaLof6e8S2v9VYk",
      "include_colab_link": true
    },
    "kernelspec": {
      "name": "python3",
      "display_name": "Python 3"
    }
  },
  "cells": [
    {
      "cell_type": "markdown",
      "metadata": {
        "id": "view-in-github",
        "colab_type": "text"
      },
      "source": [
        "<a href=\"https://colab.research.google.com/github/cmteferreira32/Probabilidade_e_Estatistica/blob/master/Probabilidade_e_Estatistica.ipynb\" target=\"_parent\"><img src=\"https://colab.research.google.com/assets/colab-badge.svg\" alt=\"Open In Colab\"/></a>"
      ]
    },
    {
      "cell_type": "code",
      "metadata": {
        "id": "c2pVxG0T6srC",
        "colab_type": "code",
        "colab": {
          "base_uri": "https://localhost:8080/",
          "height": 34
        },
        "outputId": "586485b8-a57b-44f4-a8da-901d616d7816"
      },
      "source": [
        "print('hello World')"
      ],
      "execution_count": 1,
      "outputs": [
        {
          "output_type": "stream",
          "text": [
            "hello World\n"
          ],
          "name": "stdout"
        }
      ]
    }
  ]
}